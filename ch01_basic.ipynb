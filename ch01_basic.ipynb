{
 "cells": [
  {
   "cell_type": "markdown",
   "metadata": {
    "toc": true
   },
   "source": [
    "<h1>Contents<span class=\"tocSkip\"></span></h1>\n",
    "<div class=\"toc\"><ul class=\"toc-item\"><li><span><a href=\"#01.-알고리즘-기초\" data-toc-modified-id=\"01.-알고리즘-기초-1\">01. 알고리즘 기초</a></span><ul class=\"toc-item\"><li><span><a href=\"#01-1.-알고리즘이란?\" data-toc-modified-id=\"01-1.-알고리즘이란?-1.1\">01-1. 알고리즘이란?</a></span><ul class=\"toc-item\"><li><span><a href=\"#세-정수의-최댓값-구하기\" data-toc-modified-id=\"세-정수의-최댓값-구하기-1.1.1\">세 정수의 최댓값 구하기</a></span></li><li><span><a href=\"#문자열과-숫자-입력받기\" data-toc-modified-id=\"문자열과-숫자-입력받기-1.1.2\">문자열과 숫자 입력받기</a></span></li><li><span><a href=\"#세-정수의-대소-관계와-중앙값\" data-toc-modified-id=\"세-정수의-대소-관계와-중앙값-1.1.3\">세 정수의 대소 관계와 중앙값</a></span></li><li><span><a href=\"#조건문과-분기\" data-toc-modified-id=\"조건문과-분기-1.1.4\">조건문과 분기</a></span></li></ul></li><li><span><a href=\"#01-2.-반복하는-알고리즘\" data-toc-modified-id=\"01-2.-반복하는-알고리즘-1.2\">01-2. 반복하는 알고리즘</a></span><ul class=\"toc-item\"><li><span><a href=\"#1부터-n까지-정수의-합-구하기\" data-toc-modified-id=\"1부터-n까지-정수의-합-구하기-1.2.1\">1부터 n까지 정수의 합 구하기</a></span></li><li><span><a href=\"#연속하는-정수의-합을-구하기-위해-값-정렬하기\" data-toc-modified-id=\"연속하는-정수의-합을-구하기-위해-값-정렬하기-1.2.2\">연속하는 정수의 합을 구하기 위해 값 정렬하기</a></span></li><li><span><a href=\"#반복-과정에서-조건-판단하기-1\" data-toc-modified-id=\"반복-과정에서-조건-판단하기-1-1.2.3\">반복 과정에서 조건 판단하기 1</a></span></li><li><span><a href=\"#반복-과정에서-조건-판단하기-2\" data-toc-modified-id=\"반복-과정에서-조건-판단하기-2-1.2.4\">반복 과정에서 조건 판단하기 2</a></span></li><li><span><a href=\"#반복-과정에서-조건-판단하기-3\" data-toc-modified-id=\"반복-과정에서-조건-판단하기-3-1.2.5\">반복 과정에서 조건 판단하기 3</a></span></li><li><span><a href=\"#양수만-입력받기\" data-toc-modified-id=\"양수만-입력받기-1.2.6\">양수만 입력받기</a></span></li><li><span><a href=\"#직사각형-넓이로-변의-길이-구하기\" data-toc-modified-id=\"직사각형-넓이로-변의-길이-구하기-1.2.7\">직사각형 넓이로 변의 길이 구하기</a></span></li><li><span><a href=\"#반복문-건너뛰기와-여러-범위-스캔하기\" data-toc-modified-id=\"반복문-건너뛰기와-여러-범위-스캔하기-1.2.8\">반복문 건너뛰기와 여러 범위 스캔하기</a></span></li><li><span><a href=\"#비교-연산자와-드모르간의-법칙\" data-toc-modified-id=\"비교-연산자와-드모르간의-법칙-1.2.9\">비교 연산자와 드모르간의 법칙</a></span></li><li><span><a href=\"#다중-루프-알아보기\" data-toc-modified-id=\"다중-루프-알아보기-1.2.10\">다중 루프 알아보기</a></span></li><li><span><a href=\"#파이썬의-변수-알아보기\" data-toc-modified-id=\"파이썬의-변수-알아보기-1.2.11\">파이썬의 변수 알아보기</a></span></li></ul></li></ul></li></ul></div>"
   ]
  },
  {
   "cell_type": "markdown",
   "metadata": {},
   "source": [
    "# 01. 알고리즘 기초\n",
    "## 01-1. 알고리즘이란?\n",
    "### 세 정수의 최댓값 구하기"
   ]
  },
  {
   "cell_type": "code",
   "execution_count": 1,
   "metadata": {},
   "outputs": [
    {
     "name": "stdout",
     "output_type": "stream",
     "text": [
      "세 정수의 최댓값을 구합니다.\n",
      "정수 a의 값을 입력하세요.: 1\n",
      "정수 b의 값을 입력하세요.: 3\n",
      "정수 c의 값을 입력하세요.: 2\n",
      "최댓값은 3입니다.\n"
     ]
    }
   ],
   "source": [
    "# [Do it! 실습 1-1] 세 정수를 입력받아 최댓값 구하기\n",
    "\n",
    "print('세 정수의 최댓값을 구합니다.')\n",
    "a = int(input('정수 a의 값을 입력하세요.: '))\n",
    "b = int(input('정수 b의 값을 입력하세요.: '))\n",
    "c = int(input('정수 c의 값을 입력하세요.: '))\n",
    "\n",
    "maximum = a\n",
    "if b > maximum: maximum = b\n",
    "if c > maximum: maximum = c\n",
    "\n",
    "print(f'최댓값은 {maximum}입니다.')"
   ]
  },
  {
   "cell_type": "code",
   "execution_count": 4,
   "metadata": {},
   "outputs": [
    {
     "name": "stdout",
     "output_type": "stream",
     "text": [
      "max3(3, 2, 1) = 3\n",
      "max3(3, 2, 2) = 3\n",
      "max3(3, 1, 2) = 3\n",
      "max3(3, 2, 3) = 3\n",
      "max3(2, 1, 3) = 3\n",
      "max3(3, 3, 2) = 3\n",
      "max3(3, 3, 3) = 3\n",
      "max3(2, 2, 3) = 3\n",
      "max3(2, 3, 1) = 3\n",
      "max3(2, 3, 2) = 3\n",
      "max3(1, 3, 2) = 3\n",
      "max3(2, 3, 3) = 3\n",
      "max3(1, 2, 3) = 3\n"
     ]
    }
   ],
   "source": [
    "# [Do it! 실습 1-2] # 세 정수의 최댓값을 구하기\n",
    "\n",
    "def max3(a, b, c):\n",
    "    \"\"\"a, b, c의 최댓값을 구하여 반환\"\"\"\n",
    "    maximum = a\n",
    "    if b > maximum: maximum = b\n",
    "    if c > maximum: maximum = c\n",
    "    return maximum  # 최댓값 반환\n",
    "\n",
    "print(f'max3(3, 2, 1) = {max3(3, 2, 1)}')   # [A] a > b > c\n",
    "print(f'max3(3, 2, 2) = {max3(3, 2, 2)}')   # [B] a > b = c\n",
    "print(f'max3(3, 1, 2) = {max3(3, 1, 2)}')   # [C] a > c > b\n",
    "print(f'max3(3, 2, 3) = {max3(3, 2, 3)}')   # [D] a = c > b\n",
    "print(f'max3(2, 1, 3) = {max3(2, 1, 3)}')   # [E] c > a > b\n",
    "print(f'max3(3, 3, 2) = {max3(3, 3, 2)}')   # [F] a = b > c\n",
    "print(f'max3(3, 3, 3) = {max3(3, 3, 3)}')   # [G] a = b = c\n",
    "print(f'max3(2, 2, 3) = {max3(2, 2, 3)}')   # [H] c > a = b\n",
    "print(f'max3(2, 3, 1) = {max3(2, 3, 1)}')   # [I] b > a > c\n",
    "print(f'max3(2, 3, 2) = {max3(2, 3, 2)}')   # [J] b > a = c\n",
    "print(f'max3(1, 3, 2) = {max3(1, 3, 2)}')   # [K] b > c > a\n",
    "print(f'max3(2, 3, 3) = {max3(2, 3, 3)}')   # [L] b = c > a\n",
    "print(f'max3(1, 2, 3) = {max3(1, 2, 3)}')   # [M] c > b > a"
   ]
  },
  {
   "cell_type": "markdown",
   "metadata": {},
   "source": [
    "### 문자열과 숫자 입력받기"
   ]
  },
  {
   "cell_type": "code",
   "execution_count": 2,
   "metadata": {},
   "outputs": [
    {
     "name": "stdout",
     "output_type": "stream",
     "text": [
      "이름을 입력하세요.: 박서준\n",
      "안녕하세요? 박서준 님.\n"
     ]
    }
   ],
   "source": [
    "# [Do it! 실습 1C-1] 이름을 입력받아 인사하기\n",
    "\n",
    "print('이름을 입력하세요.: ', end = '')\n",
    "name = input()\n",
    "print(f'안녕하세요? {name} 님.')"
   ]
  },
  {
   "cell_type": "code",
   "execution_count": 3,
   "metadata": {},
   "outputs": [
    {
     "name": "stdout",
     "output_type": "stream",
     "text": [
      "이름을 입력하세요.: 손흥민\n",
      "안녕하세요? 손흥민 님.\n"
     ]
    }
   ],
   "source": [
    "# 이름을 입력 받아 인사합니다(실습 1C-1 수정).\n",
    "\n",
    "name = input( '이름을 입력하세요.: ')\n",
    "print(f'안녕하세요? {name} 님.')"
   ]
  },
  {
   "cell_type": "markdown",
   "metadata": {},
   "source": [
    "### 세 정수의 대소 관계와 중앙값"
   ]
  },
  {
   "cell_type": "code",
   "execution_count": 5,
   "metadata": {},
   "outputs": [
    {
     "name": "stdout",
     "output_type": "stream",
     "text": [
      "세 정수의 중앙값을 구합니다.\n",
      "정수 a의 값을 입력하세요.: 1\n",
      "정수 b의 값을 입력하세요.: 3\n",
      "정수 c의 값을 입력하세요.: 2\n",
      "중앙값은 2입니다.\n"
     ]
    }
   ],
   "source": [
    "# [Do it! 실습 1C-2] 세 정숫값을 입력받아 중앙값을 구하기 1\n",
    "\n",
    "def med3(a, b, c):\n",
    "    \"\"\"a, b, c의 중앙값을 구하여 반환\"\"\"\n",
    "    if a >= b: \n",
    "        if b >= c: \n",
    "            return b\n",
    "        elif a <= c: \n",
    "            return a\n",
    "        else:\n",
    "            return c\n",
    "    elif a > c: \n",
    "        return a\n",
    "    elif b > c: \n",
    "        return c\n",
    "    else:\n",
    "        return b\n",
    "\n",
    "print('세 정수의 중앙값을 구합니다.')\n",
    "a = int(input('정수 a의 값을 입력하세요.: '))\n",
    "b = int(input('정수 b의 값을 입력하세요.: '))\n",
    "c = int(input('정수 c의 값을 입력하세요.: '))\n",
    "\n",
    "print(f'중앙값은 {med3(a, b, c)}입니다.')"
   ]
  },
  {
   "cell_type": "code",
   "execution_count": 6,
   "metadata": {},
   "outputs": [
    {
     "name": "stdout",
     "output_type": "stream",
     "text": [
      "세 정수의 중앙값을 구합니다.\n",
      "정수 a의 값을 입력하세요.: 7\n",
      "정수 b의 값을 입력하세요.: 4\n",
      "정수 c의 값을 입력하세요.: 9\n",
      "중앙값은 7입니다.\n"
     ]
    }
   ],
   "source": [
    "# 세 정숫값을 입력받아 중앙값을 구하기 2\n",
    "\n",
    "def med3(a, b, c):\n",
    "    \"\"\"a, b, c의 중앙값을 구하여 반환(다른 방법)\"\"\"\n",
    "    if (b >= a and c <= a) or (b <= a and c >= a):\n",
    "        return a\n",
    "    elif (a > b and c < b) or (a < b and c > b):\n",
    "        return b\n",
    "    return c\n",
    "\n",
    "print('세 정수의 중앙값을 구합니다.')\n",
    "a = int(input('정수 a의 값을 입력하세요.: '))\n",
    "b = int(input('정수 b의 값을 입력하세요.: '))\n",
    "c = int(input('정수 c의 값을 입력하세요.: '))\n",
    "\n",
    "print(f'중앙값은 {med3(a, b, c)}입니다.')"
   ]
  },
  {
   "cell_type": "markdown",
   "metadata": {},
   "source": [
    "### 조건문과 분기"
   ]
  },
  {
   "cell_type": "code",
   "execution_count": 8,
   "metadata": {},
   "outputs": [
    {
     "name": "stdout",
     "output_type": "stream",
     "text": [
      "정수를 입력하세요.: -5\n",
      "이 수는 음수입니다.\n"
     ]
    }
   ],
   "source": [
    "# [Do it! 실습 1-3] 입력받은 정숫값의 부호(양수, 음수, 0) 출력하기\n",
    "\n",
    "n = int(input('정수를 입력하세요.: '))\n",
    "\n",
    "if n > 0:\n",
    "    print('이 수는 양수입니다.')\n",
    "elif n < 0:\n",
    "    print('이 수는 음수입니다.')\n",
    "else:\n",
    "    print('이 수는 0입니다.')"
   ]
  },
  {
   "cell_type": "code",
   "execution_count": 9,
   "metadata": {},
   "outputs": [
    {
     "name": "stdout",
     "output_type": "stream",
     "text": [
      "정수를 입력하세요.: 4\n",
      "C\n"
     ]
    }
   ],
   "source": [
    "# [Do it! 실습 1-4] 3개로 분기하는 조건문\n",
    "\n",
    "n = int(input('정수를 입력하세요.: '))\n",
    "\n",
    "if n == 1:\n",
    "    print('A')\n",
    "elif n == 2:\n",
    "    print('B')\n",
    "else:\n",
    "    print('C')"
   ]
  },
  {
   "cell_type": "code",
   "execution_count": 10,
   "metadata": {},
   "outputs": [
    {
     "name": "stdout",
     "output_type": "stream",
     "text": [
      "정수를 입력하세요.: 5\n"
     ]
    }
   ],
   "source": [
    "# [Do it! 실습 1-5] 4개로 분기하는 조건문\n",
    "\n",
    "n = int(input('정수를 입력하세요.: '))\n",
    "\n",
    "if n == 1:\n",
    "    print('A')\n",
    "elif n == 2:\n",
    "    print('B')\n",
    "elif n == 3:\n",
    "    print('C')"
   ]
  },
  {
   "cell_type": "code",
   "execution_count": 11,
   "metadata": {},
   "outputs": [
    {
     "name": "stdout",
     "output_type": "stream",
     "text": [
      "정수를 입력하세요.: 6\n"
     ]
    }
   ],
   "source": [
    "# [Do it! 실습 1-6] 실습 1-5의 원래 모습\n",
    "\n",
    "n = int(input('정수를 입력하세요.: '))\n",
    "\n",
    "if n == 1:\n",
    "    print('A')\n",
    "elif n == 2:\n",
    "    print('B')\n",
    "elif n == 3:\n",
    "    print('C')\n",
    "else :\n",
    "    pass"
   ]
  },
  {
   "cell_type": "markdown",
   "metadata": {},
   "source": [
    "## 01-2. 반복하는 알고리즘\n",
    "### 1부터 n까지 정수의 합 구하기"
   ]
  },
  {
   "cell_type": "code",
   "execution_count": 13,
   "metadata": {},
   "outputs": [
    {
     "name": "stdout",
     "output_type": "stream",
     "text": [
      "1부터 n까지 정수의 합을 구합니다.\n",
      "n값을 입력하세요.: 10\n",
      "1부터 10까지 정수의 합은 55입니다.\n"
     ]
    }
   ],
   "source": [
    "# [Do it! 실습 1-7] 1부터 n까지 정수의 합 구하기 1(while 문)\n",
    "\n",
    "print('1부터 n까지 정수의 합을 구합니다.')\n",
    "n = int(input('n값을 입력하세요.: '))\n",
    "\n",
    "sum = 0\n",
    "i = 1\n",
    "\n",
    "while i <= n:  # i가 n보다 작거나 같은 동안 반복\n",
    "    sum += i   # sum에 i를 더함\n",
    "    i += 1     # i에 1을 더함\n",
    "\n",
    "print(f'1부터 {n}까지 정수의 합은 {sum}입니다.')"
   ]
  },
  {
   "cell_type": "code",
   "execution_count": 14,
   "metadata": {},
   "outputs": [
    {
     "name": "stdout",
     "output_type": "stream",
     "text": [
      "1부터 n까지 정수의 합을 구합니다.\n",
      "n값을 입력하세요. : 5\n",
      "1부터 5까지 정수의 합은 15입니다.\n",
      "i값은 6입니다.\n"
     ]
    }
   ],
   "source": [
    "# 1부터 n까지 정수의 합 구하기 1(while 문)\n",
    "\n",
    "print('1부터 n까지 정수의 합을 구합니다.')\n",
    "n = int(input('n값을 입력하세요. : '))\n",
    "\n",
    "sum = 0\n",
    "i = 1\n",
    "\n",
    "while i <= n:  # i가 n보다 작거나 같은 동안 반복\n",
    "    sum += i   # sum에 i를 더함\n",
    "    i += 1     # i에 1을 더함\n",
    "    \n",
    "print(f'1부터 {n}까지 정수의 합은 {sum}입니다.')\n",
    "print(f'i값은 {i}입니다.')"
   ]
  },
  {
   "cell_type": "code",
   "execution_count": 15,
   "metadata": {},
   "outputs": [
    {
     "name": "stdout",
     "output_type": "stream",
     "text": [
      "1부터 n까지의 합을 구합니다.\n",
      "n값을 입력하세요.: 15\n",
      "1부터 15까지 정수의 합은 120입니다.\n"
     ]
    }
   ],
   "source": [
    "# [Do it! 실습 1-8] 1부터 n까지의 합 구하기 2(for 문)\n",
    "\n",
    "print('1부터 n까지의 합을 구합니다.')\n",
    "n = int(input('n값을 입력하세요.: '))\n",
    "\n",
    "sum = 0\n",
    "for i in range(1, n + 1):\n",
    "    sum += i  # sum에 i를 더함\n",
    "\n",
    "print(f'1부터 {n}까지 정수의 합은 {sum}입니다.')"
   ]
  },
  {
   "cell_type": "code",
   "execution_count": 16,
   "metadata": {},
   "outputs": [
    {
     "name": "stdout",
     "output_type": "stream",
     "text": [
      "1부터 n까지의 합을 구합니다.\n",
      "n값을 입력하세요.: 2\n",
      "1부터 2까지의 합은 3입니다.\n"
     ]
    }
   ],
   "source": [
    "# 1부터 n까지의 합 구하기 3(가우스 덧셈 방법)\n",
    "\n",
    "print('1부터 n까지의 합을 구합니다.')\n",
    "n = int(input('n값을 입력하세요.: '))\n",
    "\n",
    "sum = n * (n + 1) // 2\n",
    "\n",
    "print(f'1부터 {n}까지의 합은 {sum}입니다.')"
   ]
  },
  {
   "cell_type": "markdown",
   "metadata": {},
   "source": [
    "### 연속하는 정수의 합을 구하기 위해 값 정렬하기"
   ]
  },
  {
   "cell_type": "code",
   "execution_count": 17,
   "metadata": {},
   "outputs": [
    {
     "name": "stdout",
     "output_type": "stream",
     "text": [
      "a부터 b까지의 합을 구합니다.\n",
      "정수 a를 입력하세요.: 8\n",
      "정수 b를 입력하세요.: 3\n",
      "3부터 8까지 정수의 합은 33입니다.\n"
     ]
    }
   ],
   "source": [
    "# [Do it! 실습 1-9] a부터 b까지 정수의 합 구하기(for 문)\n",
    "\n",
    "print('a부터 b까지의 합을 구합니다.')\n",
    "a = int(input('정수 a를 입력하세요.: '))\n",
    "b = int(input('정수 b를 입력하세요.: '))\n",
    "\n",
    "if a > b:\n",
    "    a, b = b, a  # a와 b를 오름차순으로 정렬\n",
    "\n",
    "sum = 0\n",
    "for i in range(a, b + 1):\n",
    "    sum += i  # sum에 i를 더함\n",
    "\n",
    "print(f'{a}부터 {b}까지 정수의 합은 {sum}입니다.')"
   ]
  },
  {
   "cell_type": "markdown",
   "metadata": {},
   "source": [
    "### 반복 과정에서 조건 판단하기 1"
   ]
  },
  {
   "cell_type": "code",
   "execution_count": 18,
   "metadata": {},
   "outputs": [
    {
     "name": "stdout",
     "output_type": "stream",
     "text": [
      "a부터 b까지의 합을 구합니다.\n",
      "정수 a를 입력하세요.: 3\n",
      "정수 b를 입력하세요.: 7\n",
      "3 + 4 + 5 + 6 + 7 = 25\n"
     ]
    }
   ],
   "source": [
    "# [Do it! 실습 1-10] a부터 b까지 정수의 합 구하기 1\n",
    "\n",
    "print('a부터 b까지의 합을 구합니다.')\n",
    "a = int(input('정수 a를 입력하세요.: '))\n",
    "b = int(input('정수 b를 입력하세요.: '))\n",
    "\n",
    "if a > b:\n",
    "    a, b = b, a\n",
    "\n",
    "sum = 0\n",
    "for i in range(a, b + 1):  # b - a번 반복\n",
    "    if i < b:              # i가 b보다 작으면 합을 구하는 과정을 출력\n",
    "        print(f'{i} + ', end='')\n",
    "    else:                  # i가 b보다 크거나 같으면 최종값 출력을 위해 i =를 출력\n",
    "        print(f'{i} = ', end='')\n",
    "    sum += i               # sum에 i를 더함\n",
    "\n",
    "print(sum)"
   ]
  },
  {
   "cell_type": "code",
   "execution_count": 19,
   "metadata": {},
   "outputs": [
    {
     "name": "stdout",
     "output_type": "stream",
     "text": [
      "a부터 b까지 정수의 합을 구합니다.\n",
      "정수 a를 입력하세요.: 10\n",
      "정수 b를 입력하세요.: 5\n",
      "5 + 6 + 7 + 8 + 9 + 10 = 45\n"
     ]
    }
   ],
   "source": [
    "# [Do it! 실습 1-11] a부터 b까지 정수의 합 구하기 2\n",
    "\n",
    "print('a부터 b까지 정수의 합을 구합니다.')\n",
    "a = int(input('정수 a를 입력하세요.: '))\n",
    "b = int(input('정수 b를 입력하세요.: '))\n",
    "\n",
    "if a > b :\n",
    "    a, b = b, a\n",
    "\n",
    "sum = 0\n",
    "for i in range(a, b):\n",
    "    print(f'{i} + ', end='')\n",
    "    sum += i  # sum에 i를 더함\n",
    "\n",
    "print(f'{b} = ', end ='')\n",
    "sum += b      # sum에 b를 더함\n",
    "\n",
    "print(sum)"
   ]
  },
  {
   "cell_type": "markdown",
   "metadata": {},
   "source": [
    "### 반복 과정에서 조건 판단하기 2"
   ]
  },
  {
   "cell_type": "code",
   "execution_count": 22,
   "metadata": {},
   "outputs": [
    {
     "name": "stdout",
     "output_type": "stream",
     "text": [
      "+와 -를 번갈아 출력합니다.\n",
      "몇 개를 출력할까요?: 12\n",
      "+-+-+-+-+-+-\n"
     ]
    }
   ],
   "source": [
    "# [Do it! 실습 1-12] +와 -를 번갈아 출력하기 1\n",
    "\n",
    "print('+와 -를 번갈아 출력합니다.')\n",
    "n = int(input('몇 개를 출력할까요?: '))\n",
    "\n",
    "for i in range(n):          # 반복 n번\n",
    "    if i % 2:                 \n",
    "        print('-', end='')  # 홀수인 경우 - 출력\n",
    "    else:\n",
    "        print('+', end='')  # 짝수인 경우 + 출력\n",
    "\n",
    "print()"
   ]
  },
  {
   "cell_type": "code",
   "execution_count": 23,
   "metadata": {},
   "outputs": [
    {
     "name": "stdout",
     "output_type": "stream",
     "text": [
      "+와 -를 번갈아 출력합니다.\n",
      "몇 개를 출력할까요?: 20\n",
      "+-+-+-+-+-+-+-+-+-+-\n"
     ]
    }
   ],
   "source": [
    "# [Do it! 실습 1-12] +와 -를 번갈아 출력하기 1(for 문 수정)\n",
    "\n",
    "print('+와 -를 번갈아 출력합니다.')\n",
    "n = int(input('몇 개를 출력할까요?: '))\n",
    "\n",
    "for i in range(1, n + 1):  \n",
    "    if i % 2:              # 홀수\n",
    "        print('+', end='')\n",
    "    else:                  # 짝수\n",
    "        print('-', end='')\n",
    "        \n",
    "print()"
   ]
  },
  {
   "cell_type": "code",
   "execution_count": 24,
   "metadata": {},
   "outputs": [
    {
     "name": "stdout",
     "output_type": "stream",
     "text": [
      "+와 -를 번갈아 출력합니다.\n",
      "몇 개를 출력할까요?: 17\n",
      "+-+-+-+-+-+-+-+-+\n"
     ]
    }
   ],
   "source": [
    "# [Do it! 실습 1-13] +와 -를 번갈아 출력하기 2\n",
    "\n",
    "print('+와 -를 번갈아 출력합니다.')\n",
    "n = int(input('몇 개를 출력할까요?: '))\n",
    "\n",
    "for _ in range(n // 2):\n",
    "    print('+-', end='')  # n // 2개의 +-를 출력\n",
    "\n",
    "if n % 2:\n",
    "    print('+', end='')  # n이 홀수일 때만 +를 출력\n",
    "\n",
    "print()"
   ]
  },
  {
   "cell_type": "code",
   "execution_count": 25,
   "metadata": {},
   "outputs": [
    {
     "name": "stdout",
     "output_type": "stream",
     "text": [
      "+와 -를 번갈아 출력합니다.\n",
      "몇 개를 출력할까요?: 15\n",
      "+-+-+-+-+-+-+-+"
     ]
    }
   ],
   "source": [
    "# [Do it! 실습 1-13] +와 -를 번갈아 출력하기 2(range()함수 수정)\n",
    "\n",
    "print('+와 -를 번갈아 출력합니다.')\n",
    "n = int(input('몇 개를 출력할까요?: '))\n",
    "\n",
    "for _ in range(1, n // 2 + 1):\n",
    "    print('+-', end='')  # n // 2개의 +-를 출력\n",
    "    \n",
    "if n % 2:\n",
    "    print('+', end='')  # n이 홀수일 때만 +를 출력"
   ]
  },
  {
   "cell_type": "markdown",
   "metadata": {},
   "source": [
    "### 반복 과정에서 조건 판단하기 3"
   ]
  },
  {
   "cell_type": "code",
   "execution_count": 26,
   "metadata": {},
   "outputs": [
    {
     "name": "stdout",
     "output_type": "stream",
     "text": [
      "*를 출력합니다.\n",
      "몇 개를 출력할까요? : 14\n",
      "몇 개마다 줄바꿈할까요? : 3\n",
      "***\n",
      "***\n",
      "***\n",
      "***\n",
      "**\n"
     ]
    }
   ],
   "source": [
    "# [Do it! 실습 1-14] *를 n개 출력하되 w개마다 줄바꿈하기 1\n",
    "\n",
    "print('*를 출력합니다.')\n",
    "n = int(input('몇 개를 출력할까요? : '))\n",
    "w = int(input('몇 개마다 줄바꿈할까요? : '))\n",
    "\n",
    "for i in range(n):      # n번 반복\n",
    "    print('*', end='')\n",
    "    if i % w == w - 1:  # n번 판단\n",
    "        print()         # 줄바꿈\n",
    "\n",
    "if n % w:\n",
    "    print()             # 줄바꿈"
   ]
  },
  {
   "cell_type": "code",
   "execution_count": 27,
   "metadata": {},
   "outputs": [
    {
     "name": "stdout",
     "output_type": "stream",
     "text": [
      "*를 출력합니다.\n",
      "몇 개를 출력할까요?: 12\n",
      "몇 개마다 줄바꿈할까요?: 5\n",
      "*****\n",
      "*****\n",
      "**\n"
     ]
    }
   ],
   "source": [
    "# [Do it! 실습 1-15] *를 n개 출력하되 w개마다 줄바꿈하기 2\n",
    "\n",
    "print('*를 출력합니다.')\n",
    "n = int(input('몇 개를 출력할까요?: '))\n",
    "w = int(input('몇 개마다 줄바꿈할까요?: '))\n",
    "\n",
    "for _ in range(n // w):  # 반복 n // w번 반복\n",
    "    print('*' * w)\n",
    "\n",
    "rest = n % w\n",
    "if rest:\n",
    "    print('*' * rest)  # if 문 1번 판단"
   ]
  },
  {
   "cell_type": "markdown",
   "metadata": {},
   "source": [
    "### 양수만 입력받기"
   ]
  },
  {
   "cell_type": "code",
   "execution_count": 30,
   "metadata": {},
   "outputs": [
    {
     "name": "stdout",
     "output_type": "stream",
     "text": [
      "1부터 n까지 정수의 합을 구합니다.\n",
      "n값을 입력하세요.: -6\n",
      "n값을 입력하세요.: -3\n",
      "n값을 입력하세요.: 0\n",
      "n값을 입력하세요.: 5\n",
      "1부터 5까지 정수의 합은 15입니다.\n"
     ]
    }
   ],
   "source": [
    "# [Do it! 실습 1-16] 1부터 n까지 정수의 합 구하기(n값은 양수만 입력받음)\n",
    "\n",
    "print('1부터 n까지 정수의 합을 구합니다.')\n",
    "\n",
    "while True:\n",
    "    n = int(input('n값을 입력하세요.: '))\n",
    "    if n > 0:\n",
    "        break  # n이 0보다 커질 때까지 반복\n",
    "\n",
    "sum = 0\n",
    "i = 1\n",
    "\n",
    "for i in range(1, n + 1):\n",
    "    sum += i  # sum에 i를 더함\n",
    "    i += 1    # i에 1을 더함\n",
    "\n",
    "print(f'1부터 {n}까지 정수의 합은 {sum}입니다.')"
   ]
  },
  {
   "cell_type": "markdown",
   "metadata": {},
   "source": [
    "### 직사각형 넓이로 변의 길이 구하기"
   ]
  },
  {
   "cell_type": "code",
   "execution_count": 31,
   "metadata": {},
   "outputs": [
    {
     "name": "stdout",
     "output_type": "stream",
     "text": [
      "직사각형의 넓이를 입력하세요.: 100\n",
      "1 × 100\n",
      "2 × 50\n",
      "4 × 25\n",
      "5 × 20\n",
      "10 × 10\n"
     ]
    }
   ],
   "source": [
    "# [Do it! 실습 1-17] 가로 세로가 정수이고 넓이가 area인 직사각형에서 변의 길이를 나열하기\n",
    "\n",
    "area = int(input('직사각형의 넓이를 입력하세요.: '))\n",
    "\n",
    "for i in range(1, area + 1):  # 1부터 사각형의 넓이 계산\n",
    "    if i * i > area: break\n",
    "    if area % i: continue\n",
    "    print(f'{i} × {area // i}')"
   ]
  },
  {
   "cell_type": "code",
   "execution_count": 33,
   "metadata": {},
   "outputs": [
    {
     "name": "stdout",
     "output_type": "stream",
     "text": [
      "난수의 개수를 입력하세요.: 5\n",
      "90 84 38 15 51 \n",
      "난수 생성을 종료합니다.\n"
     ]
    }
   ],
   "source": [
    "# [Do it! 실습 1-18] 10~99 사이의 난수 n개 생성하기(13이 나오면 중단)\n",
    "\n",
    "import random\n",
    "\n",
    "n = int(input('난수의 개수를 입력하세요.: '))\n",
    "\n",
    "for _ in range(n):\n",
    "    r = random.randint(10, 99)\n",
    "    print(r, end=' ')\n",
    "    if r == 13:\n",
    "        print('\\n프로그램을 중단합니다.')\n",
    "        break\n",
    "else:\n",
    "    print('\\n난수 생성을 종료합니다.')"
   ]
  },
  {
   "cell_type": "markdown",
   "metadata": {},
   "source": [
    "### 반복문 건너뛰기와 여러 범위 스캔하기"
   ]
  },
  {
   "cell_type": "code",
   "execution_count": 36,
   "metadata": {},
   "outputs": [
    {
     "name": "stdout",
     "output_type": "stream",
     "text": [
      "1 2 3 4 5 6 7 9 10 11 12 \n"
     ]
    }
   ],
   "source": [
    "# [Do it! 실습 1-19] 1~12까지 8을 건너뛰고 출력하기 1\n",
    "\n",
    "for i in range(1, 13):\n",
    "    if i == 8:\n",
    "        continue\n",
    "    print(i, end=' ')\n",
    "    \n",
    "print()"
   ]
  },
  {
   "cell_type": "code",
   "execution_count": 39,
   "metadata": {},
   "outputs": [
    {
     "name": "stdout",
     "output_type": "stream",
     "text": [
      "1 2 3 4 5 6 7 9 10 11 12 \n"
     ]
    }
   ],
   "source": [
    "# [Do it! 실습 1-20] 1부터 12까지 8을 건너 뛰고 출력하기 2\n",
    "\n",
    "for i in list(range(1, 8)) + list(range(9, 13)):\n",
    "    print(i, end=' ')\n",
    "print()"
   ]
  },
  {
   "cell_type": "markdown",
   "metadata": {},
   "source": [
    "### 비교 연산자와 드모르간의 법칙"
   ]
  },
  {
   "cell_type": "code",
   "execution_count": 41,
   "metadata": {},
   "outputs": [
    {
     "name": "stdout",
     "output_type": "stream",
     "text": [
      "2자리 양수를 입력하세요.\n",
      "값을 입력하세요.: 9\n",
      "값을 입력하세요.: 146\n",
      "값을 입력하세요.: 57\n",
      "입력받은 양수는 57입니다.\n"
     ]
    }
   ],
   "source": [
    "# [Do it! 실습 1C-3] 2자리 양수(10 ~ 99) 입력받기\n",
    "\n",
    "print('2자리 양수를 입력하세요.')\n",
    "\n",
    "while True:\n",
    "    no = int(input('값을 입력하세요.: '))\n",
    "    if no >= 10 and no <= 99:\n",
    "        break\n",
    "\n",
    "print(f'입력받은 양수는 {no}입니다.')"
   ]
  },
  {
   "cell_type": "code",
   "execution_count": 42,
   "metadata": {},
   "outputs": [
    {
     "name": "stdout",
     "output_type": "stream",
     "text": [
      "2자리 양수를 입력하세요.\n",
      "값을 입력하세요.: 87\n",
      "입력받은 양수는 87입니다.\n"
     ]
    }
   ],
   "source": [
    "# 2자리 양수(10 ~ 99) 입력받기 2\n",
    "\n",
    "print('2자리 양수를 입력하세요.')\n",
    "\n",
    "while True:\n",
    "    no = int(input('값을 입력하세요.: '))\n",
    "    if 10 <= no <= 99:\n",
    "        break\n",
    "\n",
    "print(f'입력받은 양수는 {no}입니다.')"
   ]
  },
  {
   "cell_type": "code",
   "execution_count": 43,
   "metadata": {},
   "outputs": [
    {
     "name": "stdout",
     "output_type": "stream",
     "text": [
      "2자리 양수를 입력하세요.\n",
      "값을 입력하세요.: 1\n",
      "값을 입력하세요.: 9\n",
      "값을 입력하세요.: 462\n",
      "값을 입력하세요.: 55\n",
      "입력받은 양수는 55입니다.\n"
     ]
    }
   ],
   "source": [
    "# 2자리 양수(10~99) 입력받기 3\n",
    "\n",
    "print('2자리 양수를 입력하세요.')\n",
    "\n",
    "while True:\n",
    "    no = int(input('값을 입력하세요.: '))\n",
    "    if not(no < 10 or no > 99):\n",
    "        break\n",
    "\n",
    "print(f'입력받은 양수는 {no}입니다.')"
   ]
  },
  {
   "cell_type": "markdown",
   "metadata": {},
   "source": [
    "### 다중 루프 알아보기"
   ]
  },
  {
   "cell_type": "code",
   "execution_count": 46,
   "metadata": {},
   "outputs": [
    {
     "name": "stdout",
     "output_type": "stream",
     "text": [
      "---------------------------\n",
      "  1  2  3  4  5  6  7  8  9\n",
      "  2  4  6  8 10 12 14 16 18\n",
      "  3  6  9 12 15 18 21 24 27\n",
      "  4  8 12 16 20 24 28 32 36\n",
      "  5 10 15 20 25 30 35 40 45\n",
      "  6 12 18 24 30 36 42 48 54\n",
      "  7 14 21 28 35 42 49 56 63\n",
      "  8 16 24 32 40 48 56 64 72\n",
      "  9 18 27 36 45 54 63 72 81\n",
      "---------------------------\n"
     ]
    }
   ],
   "source": [
    "# [Do it! 실습 1-21] 구구단 곱셈표 출력하기\n",
    "\n",
    "print('-' * 27)\n",
    "for i in range(1, 10):      # 행 루프\n",
    "    for j in range(1, 10):  # 열 루프\n",
    "        print(f'{i * j : 3}', end='')\n",
    "    print()                 # 행 변경\n",
    "print('-' * 27)"
   ]
  },
  {
   "cell_type": "code",
   "execution_count": 47,
   "metadata": {},
   "outputs": [
    {
     "name": "stdout",
     "output_type": "stream",
     "text": [
      "왼쪽 아래가 직각인 이등변 삼각형을 출력합니다.\n",
      "짧은 변의 길이를 입력하세요.: 5\n",
      "*\n",
      "**\n",
      "***\n",
      "****\n",
      "*****\n"
     ]
    }
   ],
   "source": [
    "# [Do it! 실습 1-22] 왼쪽 아래가 직각인 이등변 삼각형으로 * 출력하기\n",
    "\n",
    "print('왼쪽 아래가 직각인 이등변 삼각형을 출력합니다.')\n",
    "n = int(input('짧은 변의 길이를 입력하세요.: '))\n",
    "\n",
    "for i in range(n):          # 행 루프\n",
    "    for j in range(i + 1):  # 열 루프\n",
    "        print('*', end='')\n",
    "    print()"
   ]
  },
  {
   "cell_type": "code",
   "execution_count": 48,
   "metadata": {},
   "outputs": [
    {
     "name": "stdout",
     "output_type": "stream",
     "text": [
      "왼쪽 아래가 직각인 이등변 삼각형을 출력합니다.\n",
      "짧은 변의 길이를 입력하세요.: 5\n",
      "*\n",
      "**\n",
      "***\n",
      "****\n",
      "*****\n"
     ]
    }
   ],
   "source": [
    "# 왼쪽 아래가 직각인 이등변 삼각형으로 * 출력하기(언더스코어 사용)\n",
    "\n",
    "print('왼쪽 아래가 직각인 이등변 삼각형을 출력합니다.')\n",
    "n = int(input('짧은 변의 길이를 입력하세요.: '))\n",
    "\n",
    "for i in range(n):          # 행 루프\n",
    "    for _ in range(i + 1):  # 열 루프\n",
    "        print('*', end='')\n",
    "    print()"
   ]
  },
  {
   "cell_type": "code",
   "execution_count": 50,
   "metadata": {},
   "outputs": [
    {
     "name": "stdout",
     "output_type": "stream",
     "text": [
      "오른쪽 아래가 직각인 이등변 삼각형을 출력합니다.\n",
      "짧은 변 길이를 입력하세요.: 7\n",
      "      *\n",
      "     **\n",
      "    ***\n",
      "   ****\n",
      "  *****\n",
      " ******\n",
      "*******\n"
     ]
    }
   ],
   "source": [
    " # [Do it! 실습 1-23] 오른쪽 아래가 직각인 이등변 삼각형으로 * 출력하기\n",
    "\n",
    "print('오른쪽 아래가 직각인 이등변 삼각형을 출력합니다.')\n",
    "n = int(input('짧은 변 길이를 입력하세요.: '))\n",
    "\n",
    "for i in range(n):              # 행 루프\n",
    "    for _ in range(n - i - 1):  # 열 루프(공백을 출력)\n",
    "        print(' ', end='')\n",
    "    for _ in range(i + 1):\n",
    "        print('*', end='')      # 열 루프(*을 출력)\n",
    "    print()"
   ]
  },
  {
   "cell_type": "markdown",
   "metadata": {},
   "source": [
    "### 파이썬의 변수 알아보기"
   ]
  },
  {
   "cell_type": "code",
   "execution_count": 54,
   "metadata": {},
   "outputs": [
    {
     "name": "stdout",
     "output_type": "stream",
     "text": [
      "id(1) = 94621350925056\n",
      "id(n) = 94621350925056\n",
      "id(x) = 94621350925056\n"
     ]
    }
   ],
   "source": [
    " # [Do it! 실습 1C-4] 함수의 내부·외부에서 정의한 변수와 객체의 식별 번호를 출력\n",
    "\n",
    "n = 1      # 전역 변수(함수 내부·외부에서 사용)\n",
    "def put_id():\n",
    "    x = 1  # 지역 변수(함수 내부에서만 사용)\n",
    "    print(f'id(x) = {id(x)}')\n",
    "    \n",
    "print(f'id(1) = {id(1)}')\n",
    "print(f'id(n) = {id(n)}')\n",
    "put_id()"
   ]
  },
  {
   "cell_type": "code",
   "execution_count": 56,
   "metadata": {
    "scrolled": true
   },
   "outputs": [
    {
     "name": "stdout",
     "output_type": "stream",
     "text": [
      "i =   1   id(i) = 94621350925056\n",
      "i =   2   id(i) = 94621350925088\n",
      "i =   3   id(i) = 94621350925120\n",
      "i =   4   id(i) = 94621350925152\n",
      "i =   5   id(i) = 94621350925184\n",
      "i =   6   id(i) = 94621350925216\n",
      "i =   7   id(i) = 94621350925248\n",
      "i =   8   id(i) = 94621350925280\n",
      "i =   9   id(i) = 94621350925312\n",
      "i =  10   id(i) = 94621350925344\n",
      "i =  11   id(i) = 94621350925376\n",
      "i =  12   id(i) = 94621350925408\n",
      "i =  13   id(i) = 94621350925440\n",
      "i =  14   id(i) = 94621350925472\n",
      "i =  15   id(i) = 94621350925504\n",
      "i =  16   id(i) = 94621350925536\n",
      "i =  17   id(i) = 94621350925568\n",
      "i =  18   id(i) = 94621350925600\n",
      "i =  19   id(i) = 94621350925632\n",
      "i =  20   id(i) = 94621350925664\n",
      "i =  21   id(i) = 94621350925696\n",
      "i =  22   id(i) = 94621350925728\n",
      "i =  23   id(i) = 94621350925760\n",
      "i =  24   id(i) = 94621350925792\n",
      "i =  25   id(i) = 94621350925824\n",
      "i =  26   id(i) = 94621350925856\n",
      "i =  27   id(i) = 94621350925888\n",
      "i =  28   id(i) = 94621350925920\n",
      "i =  29   id(i) = 94621350925952\n",
      "i =  30   id(i) = 94621350925984\n",
      "i =  31   id(i) = 94621350926016\n",
      "i =  32   id(i) = 94621350926048\n",
      "i =  33   id(i) = 94621350926080\n",
      "i =  34   id(i) = 94621350926112\n",
      "i =  35   id(i) = 94621350926144\n",
      "i =  36   id(i) = 94621350926176\n",
      "i =  37   id(i) = 94621350926208\n",
      "i =  38   id(i) = 94621350926240\n",
      "i =  39   id(i) = 94621350926272\n",
      "i =  40   id(i) = 94621350926304\n",
      "i =  41   id(i) = 94621350926336\n",
      "i =  42   id(i) = 94621350926368\n",
      "i =  43   id(i) = 94621350926400\n",
      "i =  44   id(i) = 94621350926432\n",
      "i =  45   id(i) = 94621350926464\n",
      "i =  46   id(i) = 94621350926496\n",
      "i =  47   id(i) = 94621350926528\n",
      "i =  48   id(i) = 94621350926560\n",
      "i =  49   id(i) = 94621350926592\n",
      "i =  50   id(i) = 94621350926624\n",
      "i =  51   id(i) = 94621350926656\n",
      "i =  52   id(i) = 94621350926688\n",
      "i =  53   id(i) = 94621350926720\n",
      "i =  54   id(i) = 94621350926752\n",
      "i =  55   id(i) = 94621350926784\n",
      "i =  56   id(i) = 94621350926816\n",
      "i =  57   id(i) = 94621350926848\n",
      "i =  58   id(i) = 94621350926880\n",
      "i =  59   id(i) = 94621350926912\n",
      "i =  60   id(i) = 94621350926944\n",
      "i =  61   id(i) = 94621350926976\n",
      "i =  62   id(i) = 94621350927008\n",
      "i =  63   id(i) = 94621350927040\n",
      "i =  64   id(i) = 94621350927072\n",
      "i =  65   id(i) = 94621350927104\n",
      "i =  66   id(i) = 94621350927136\n",
      "i =  67   id(i) = 94621350927168\n",
      "i =  68   id(i) = 94621350927200\n",
      "i =  69   id(i) = 94621350927232\n",
      "i =  70   id(i) = 94621350927264\n",
      "i =  71   id(i) = 94621350927296\n",
      "i =  72   id(i) = 94621350927328\n",
      "i =  73   id(i) = 94621350927360\n",
      "i =  74   id(i) = 94621350927392\n",
      "i =  75   id(i) = 94621350927424\n",
      "i =  76   id(i) = 94621350927456\n",
      "i =  77   id(i) = 94621350927488\n",
      "i =  78   id(i) = 94621350927520\n",
      "i =  79   id(i) = 94621350927552\n",
      "i =  80   id(i) = 94621350927584\n",
      "i =  81   id(i) = 94621350927616\n",
      "i =  82   id(i) = 94621350927648\n",
      "i =  83   id(i) = 94621350927680\n",
      "i =  84   id(i) = 94621350927712\n",
      "i =  85   id(i) = 94621350927744\n",
      "i =  86   id(i) = 94621350927776\n",
      "i =  87   id(i) = 94621350927808\n",
      "i =  88   id(i) = 94621350927840\n",
      "i =  89   id(i) = 94621350927872\n",
      "i =  90   id(i) = 94621350927904\n",
      "i =  91   id(i) = 94621350927936\n",
      "i =  92   id(i) = 94621350927968\n",
      "i =  93   id(i) = 94621350928000\n",
      "i =  94   id(i) = 94621350928032\n",
      "i =  95   id(i) = 94621350928064\n",
      "i =  96   id(i) = 94621350928096\n",
      "i =  97   id(i) = 94621350928128\n",
      "i =  98   id(i) = 94621350928160\n",
      "i =  99   id(i) = 94621350928192\n",
      "i = 100   id(i) = 94621350928224\n"
     ]
    }
   ],
   "source": [
    "# [Do it! 실습 1C-5] 1부터 100까지 반복하여 출력\n",
    "\n",
    "for i in range(1, 101):\n",
    "    print(f'i = {i:3}   id(i) = {id(i)}')"
   ]
  }
 ],
 "metadata": {
  "kernelspec": {
   "display_name": "Python 3",
   "language": "python",
   "name": "python3"
  },
  "language_info": {
   "codemirror_mode": {
    "name": "ipython",
    "version": 3
   },
   "file_extension": ".py",
   "mimetype": "text/x-python",
   "name": "python",
   "nbconvert_exporter": "python",
   "pygments_lexer": "ipython3",
   "version": "3.7.6"
  },
  "toc": {
   "base_numbering": 1,
   "nav_menu": {},
   "number_sections": false,
   "sideBar": true,
   "skip_h1_title": false,
   "title_cell": "Contents",
   "title_sidebar": "Contents",
   "toc_cell": true,
   "toc_position": {},
   "toc_section_display": true,
   "toc_window_display": false
  }
 },
 "nbformat": 4,
 "nbformat_minor": 4
}
