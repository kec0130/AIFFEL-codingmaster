{
 "cells": [
  {
   "cell_type": "markdown",
   "metadata": {
    "toc": true
   },
   "source": [
    "<h1>Contents<span class=\"tocSkip\"></span></h1>\n",
    "<div class=\"toc\"><ul class=\"toc-item\"><li><span><a href=\"#05.-재귀-알고리즘\" data-toc-modified-id=\"05.-재귀-알고리즘-1\">05. 재귀 알고리즘</a></span><ul class=\"toc-item\"><li><span><a href=\"#05-1.-재귀-알고리즘의-기본\" data-toc-modified-id=\"05-1.-재귀-알고리즘의-기본-1.1\">05-1. 재귀 알고리즘의 기본</a></span><ul class=\"toc-item\"><li><span><a href=\"#팩토리얼\" data-toc-modified-id=\"팩토리얼-1.1.1\">팩토리얼</a></span></li><li><span><a href=\"#유클리드-호제법\" data-toc-modified-id=\"유클리드-호제법-1.1.2\">유클리드 호제법</a></span></li></ul></li><li><span><a href=\"#05-2.-재귀-알고리즘-분석\" data-toc-modified-id=\"05-2.-재귀-알고리즘-분석-1.2\">05-2. 재귀 알고리즘 분석</a></span><ul class=\"toc-item\"><li><span><a href=\"#재귀-알고리즘의-2가지-분석-방법\" data-toc-modified-id=\"재귀-알고리즘의-2가지-분석-방법-1.2.1\">재귀 알고리즘의 2가지 분석 방법</a></span></li><li><span><a href=\"#재귀-알고리즘의-비재귀적-표현\" data-toc-modified-id=\"재귀-알고리즘의-비재귀적-표현-1.2.2\">재귀 알고리즘의 비재귀적 표현</a></span></li></ul></li></ul></li></ul></div>"
   ]
  },
  {
   "cell_type": "markdown",
   "metadata": {},
   "source": [
    "# 05. 재귀 알고리즘\n",
    "## 05-1. 재귀 알고리즘의 기본\n",
    "### 팩토리얼\n",
    "- 0! = 1\n",
    "- n > 0이면 n! = n x (n - 1)!"
   ]
  },
  {
   "cell_type": "code",
   "execution_count": 3,
   "metadata": {},
   "outputs": [
    {
     "name": "stdout",
     "output_type": "stream",
     "text": [
      "출력할 팩토리얼 값을 입력하세요.: 5\n",
      "5의 팩토리얼은 120입니다.\n"
     ]
    }
   ],
   "source": [
    "# [Do it! 실습 5-1] 양의 정수인 팩토리얼 구하기\n",
    "\n",
    "def factorial(n: int) -> int:\n",
    "    \"\"\"양의 정수 n의 팩토리얼을 구하는 과정\"\"\"\n",
    "    if n > 0:\n",
    "        return n * factorial(n - 1)\n",
    "    else:\n",
    "        return 1\n",
    "\n",
    "if __name__ == '__main__':\n",
    "    n = int(input('출력할 팩토리얼 값을 입력하세요.: '))\n",
    "    print(f'{n}의 팩토리얼은 {factorial(n)}입니다.')"
   ]
  },
  {
   "cell_type": "code",
   "execution_count": 4,
   "metadata": {},
   "outputs": [
    {
     "name": "stdout",
     "output_type": "stream",
     "text": [
      "출력할 팩토리얼 값을 입력하세요.: -8\n",
      "-8의 팩토리얼은 구할 수 없습니다.\n"
     ]
    }
   ],
   "source": [
    "# [보충수업 5-1] 양의 정수인 팩토리얼 구하기(n이 음수면 ValueError 예외 처리 발생)\n",
    "\n",
    "def factorial(n: int) -> int:\n",
    "    \"\"\"양의 정수 n의 팩토리얼값을 재귀적으로 구함(n이 음수면 ValueError 예외 처리 발생)\"\"\"\n",
    "    if n > 0:\n",
    "        return n * factorial(n - 1)\n",
    "    elif n == 0:\n",
    "        return 1\n",
    "    else:\n",
    "        raise ValueError\n",
    "\n",
    "if __name__ == '__main__':\n",
    "    n = int(input('출력할 팩토리얼 값을 입력하세요.: '))\n",
    "    try:\n",
    "        print(f'{n}의 팩토리얼은 {factorial(n)}입니다.')\n",
    "    except ValueError:\n",
    "        print(f'{n}의 팩토리얼은 구할 수 없습니다.')"
   ]
  },
  {
   "cell_type": "code",
   "execution_count": 9,
   "metadata": {},
   "outputs": [
    {
     "data": {
      "text/plain": [
       "3628800"
      ]
     },
     "execution_count": 9,
     "metadata": {},
     "output_type": "execute_result"
    }
   ],
   "source": [
    "# 표준 라이브러리 사용\n",
    "import math\n",
    "math.factorial(10)"
   ]
  },
  {
   "cell_type": "markdown",
   "metadata": {},
   "source": [
    "### 유클리드 호제법\n",
    "- A = BQ + R일 때, A와 B의 GCD = B와 R의 GCD\n",
    "- `gcd(x, y) = gcd(y, x % y)`\n",
    "- y가 0이면 `gcd(x, y) = x`"
   ]
  },
  {
   "cell_type": "code",
   "execution_count": 11,
   "metadata": {},
   "outputs": [
    {
     "name": "stdout",
     "output_type": "stream",
     "text": [
      "두 정숫값의 최대 공약수를 구합니다.\n",
      "첫 번째 정숫값을 입력하세요.: 22\n",
      "두 번째 정숫값을 입력하세요.: 8\n",
      "두 정숫값의 최대 공약수는 2입니다.\n"
     ]
    }
   ],
   "source": [
    "# [Do it! 실습 5-2] 유클리드 호제법으로 최대 공약수 구하기\n",
    "\n",
    "def gcd(x: int, y: int) -> int:\n",
    "    \"\"\"정숫값 x와 y의 최대 공약수를 반환\"\"\"\n",
    "    if y == 0:\n",
    "        return x\n",
    "    else:\n",
    "        return gcd(y, x % y)\n",
    "\n",
    "if __name__ == '__main__':\n",
    "    print('두 정숫값의 최대 공약수를 구합니다.')\n",
    "    x = int(input('첫 번째 정숫값을 입력하세요.: '))\n",
    "    y = int(input('두 번째 정숫값을 입력하세요.: '))\n",
    "\n",
    "    print(f'두 정숫값의 최대 공약수는 {gcd(x, y)}입니다.')"
   ]
  },
  {
   "cell_type": "code",
   "execution_count": 12,
   "metadata": {},
   "outputs": [
    {
     "data": {
      "text/plain": [
       "82"
      ]
     },
     "execution_count": 12,
     "metadata": {},
     "output_type": "execute_result"
    }
   ],
   "source": [
    "# 표준 라이브러리 사용\n",
    "import math\n",
    "math.gcd(1558, 3854)"
   ]
  },
  {
   "cell_type": "markdown",
   "metadata": {},
   "source": [
    "## 05-2. 재귀 알고리즘 분석\n",
    "### 재귀 알고리즘의 2가지 분석 방법\n",
    "- 하향식 분석: 가장 위쪽의 함수 호출부터 계단식으로 내려가며 분석하는 방법\n",
    "- 상향식 분석: 가장 아래쪽의 함수부터 쌓아 올리며 분석하는 방법"
   ]
  },
  {
   "cell_type": "code",
   "execution_count": 13,
   "metadata": {},
   "outputs": [
    {
     "name": "stdout",
     "output_type": "stream",
     "text": [
      "정숫값을 입력하세요.: 4\n",
      "1\n",
      "2\n",
      "3\n",
      "1\n",
      "4\n",
      "1\n",
      "2\n"
     ]
    }
   ],
   "source": [
    "# [Do it! 실습 5-3] 순수한 재귀 함수 구현하기\n",
    "\n",
    "def recur(n: int) -> int:\n",
    "    \"\"\"순수한 재귀 함수 recur의 구현\"\"\"\n",
    "    if n > 0:\n",
    "        recur(n - 1)\n",
    "        print(n)\n",
    "        recur(n - 2)\n",
    "\n",
    "x = int(input('정숫값을 입력하세요.: '))\n",
    "\n",
    "recur(x)"
   ]
  },
  {
   "cell_type": "code",
   "execution_count": 15,
   "metadata": {},
   "outputs": [
    {
     "name": "stdout",
     "output_type": "stream",
     "text": [
      "정수를 입력하세요.: 4\n",
      "\n",
      "4   call_0\n",
      "3   call_1\n",
      "2   call_1\n",
      "1   call_1\n",
      "0   call_1\n",
      "1\n",
      "-1   call_2\n",
      "2\n",
      "0   call_2\n",
      "3\n",
      "1   call_2\n",
      "0   call_1\n",
      "1\n",
      "-1   call_2\n",
      "4\n",
      "2   call_2\n",
      "1   call_1\n",
      "0   call_1\n",
      "1\n",
      "-1   call_2\n",
      "2\n",
      "0   call_2\n"
     ]
    }
   ],
   "source": [
    "# 위 함수의 작동 과정을 출력하도록 변형\n",
    "def recur(n: int, s: str) -> int:\n",
    "    print(n, ' ', s)\n",
    "    if n > 0:\n",
    "        recur(n - 1, \"call_1\")\n",
    "        print(n)\n",
    "        recur(n - 2, \"call_2\")\n",
    "        \n",
    "x = int(input('정수를 입력하세요.: '))\n",
    "print()\n",
    "\n",
    "recur(x, \"call_0\")"
   ]
  },
  {
   "cell_type": "code",
   "execution_count": 16,
   "metadata": {},
   "outputs": [
    {
     "name": "stdout",
     "output_type": "stream",
     "text": [
      "정숫값을 입력하세요.: 4\n",
      "2\n",
      "1\n",
      "4\n",
      "1\n",
      "3\n",
      "2\n",
      "1\n"
     ]
    }
   ],
   "source": [
    "# recur 함수를 거꾸로 출력(Do it! 실습 5-3 수정)\n",
    "\n",
    "def recur(n: int) -> int:\n",
    "    \"\"\"순수한 재귀 함수 recur의 구현(거꾸로 출력)\"\"\"\n",
    "    if n > 0:\n",
    "        recur(n - 2)\n",
    "        print(n)\n",
    "        recur(n - 1)\n",
    "\n",
    "x = int(input('정숫값을 입력하세요.: '))\n",
    "\n",
    "recur(x)"
   ]
  },
  {
   "cell_type": "markdown",
   "metadata": {},
   "source": [
    "### 재귀 알고리즘의 비재귀적 표현\n",
    "- 꼬리 재귀를 제거하기: 값을 업데이트하고 함수 호출\n",
    "- 재귀를 제거하기: 스택으로 구현"
   ]
  },
  {
   "cell_type": "code",
   "execution_count": 19,
   "metadata": {},
   "outputs": [
    {
     "name": "stdout",
     "output_type": "stream",
     "text": [
      "정수값을 입력하세요.: 4\n",
      "1\n",
      "2\n",
      "3\n",
      "1\n",
      "4\n",
      "1\n",
      "2\n"
     ]
    }
   ],
   "source": [
    "# [Do it! 실습 5-4] 재귀 함수의 구현(꼬리 재귀를 제거)\n",
    "\n",
    "def recur(n: int) -> int:\n",
    "    \"\"\"꼬리 재귀를 제거한 함수 recur\"\"\"\n",
    "    while n > 0:\n",
    "        recur(n - 1)\n",
    "        print(n)\n",
    "        n = n - 2   # n 값을 n-2로 업데이트 후 함수의 시작 지점으로 돌이감\n",
    "        \n",
    "x = int(input('정수값을 입력하세요.: '))\n",
    "\n",
    "recur(x)"
   ]
  },
  {
   "cell_type": "code",
   "execution_count": 20,
   "metadata": {},
   "outputs": [
    {
     "name": "stdout",
     "output_type": "stream",
     "text": [
      "정수값을 입력하세요.: 4\n",
      "1\n",
      "2\n",
      "3\n",
      "1\n",
      "4\n",
      "1\n",
      "2\n"
     ]
    }
   ],
   "source": [
    "# [Do it! 실습 5-5] 스택으로 재귀 함수 구현하기(재귀를 제거)\n",
    "\n",
    "from stack import Stack  # stack.py의 Stack 클래스를 임포트\n",
    "\n",
    "def recur(n: int) -> int:\n",
    "    \"\"\"재귀를 제거한 함수 recur\"\"\"\n",
    "    s = Stack(n)\n",
    "\n",
    "    while True:\n",
    "        if n > 0:\n",
    "            s.push(n)         # n 값을 푸시\n",
    "            n = n - 1\n",
    "            continue\n",
    "        if not s.is_empty():  # 스택이 비어 있지 않으면\n",
    "            n = s.pop()       # 저장하고 있는 값을 n에 팝\n",
    "            print(n)\n",
    "            n = n - 2\n",
    "            continue\n",
    "        break\n",
    "\n",
    "x = int(input('정수값을 입력하세요.: '))\n",
    "\n",
    "recur(x)"
   ]
  }
 ],
 "metadata": {
  "kernelspec": {
   "display_name": "Python 3",
   "language": "python",
   "name": "python3"
  },
  "language_info": {
   "codemirror_mode": {
    "name": "ipython",
    "version": 3
   },
   "file_extension": ".py",
   "mimetype": "text/x-python",
   "name": "python",
   "nbconvert_exporter": "python",
   "pygments_lexer": "ipython3",
   "version": "3.7.6"
  },
  "toc": {
   "base_numbering": 1,
   "nav_menu": {},
   "number_sections": false,
   "sideBar": true,
   "skip_h1_title": false,
   "title_cell": "Contents",
   "title_sidebar": "Contents",
   "toc_cell": true,
   "toc_position": {},
   "toc_section_display": true,
   "toc_window_display": true
  }
 },
 "nbformat": 4,
 "nbformat_minor": 4
}
